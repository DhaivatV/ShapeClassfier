{
 "cells": [
  {
   "cell_type": "code",
   "execution_count": 1,
   "id": "0a014acf",
   "metadata": {},
   "outputs": [],
   "source": [
    "import keras\n",
    "from keras.preprocessing import image \n",
    "import numpy as np"
   ]
  },
  {
   "cell_type": "code",
   "execution_count": 2,
   "id": "9a213f6d",
   "metadata": {},
   "outputs": [],
   "source": [
    "classifier  = keras.models.load_model(\"model.h5\")"
   ]
  },
  {
   "cell_type": "code",
   "execution_count": 3,
   "id": "77d1a80b",
   "metadata": {},
   "outputs": [],
   "source": [
    "img = image.load_img(\"Image Path\", target_size = (64,64))\n",
    "img_new  = image.img_to_array(img)\n",
    "img_new = np.expand_dims(img_new, axis = 0)\n"
   ]
  },
  {
   "cell_type": "code",
   "execution_count": 4,
   "id": "4008d092",
   "metadata": {},
   "outputs": [],
   "source": [
    "class_indices_dict = {'circle': 0, 'rectangle': 1}"
   ]
  },
  {
   "cell_type": "code",
   "execution_count": 5,
   "id": "d2b9506e",
   "metadata": {},
   "outputs": [
    {
     "data": {
      "text/plain": [
       "[[0.0, 1.0]]"
      ]
     },
     "execution_count": 5,
     "metadata": {},
     "output_type": "execute_result"
    }
   ],
   "source": [
    "prediction = classifier.predict(img_new)\n",
    "pred = prediction.tolist()\n",
    "pred"
   ]
  },
  {
   "cell_type": "code",
   "execution_count": null,
   "id": "79f7d1c2",
   "metadata": {},
   "outputs": [],
   "source": []
  }
 ],
 "metadata": {
  "kernelspec": {
   "display_name": "Python 3 (ipykernel)",
   "language": "python",
   "name": "python3"
  },
  "language_info": {
   "codemirror_mode": {
    "name": "ipython",
    "version": 3
   },
   "file_extension": ".py",
   "mimetype": "text/x-python",
   "name": "python",
   "nbconvert_exporter": "python",
   "pygments_lexer": "ipython3",
   "version": "3.7.0"
  }
 },
 "nbformat": 4,
 "nbformat_minor": 5
}
