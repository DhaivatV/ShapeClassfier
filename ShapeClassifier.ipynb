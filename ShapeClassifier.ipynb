{
 "cells": [
  {
   "cell_type": "markdown",
   "id": "f20681ab",
   "metadata": {},
   "source": [
    "# IMPORT NECESSARY MODULES"
   ]
  },
  {
   "cell_type": "code",
   "execution_count": 1,
   "id": "c0fa9d92",
   "metadata": {},
   "outputs": [
    {
     "name": "stderr",
     "output_type": "stream",
     "text": [
      "2022-02-15 01:45:52.566689: W tensorflow/stream_executor/platform/default/dso_loader.cc:64] Could not load dynamic library 'libcudart.so.11.0'; dlerror: libcudart.so.11.0: cannot open shared object file: No such file or directory\n",
      "2022-02-15 01:45:52.566732: I tensorflow/stream_executor/cuda/cudart_stub.cc:29] Ignore above cudart dlerror if you do not have a GPU set up on your machine.\n"
     ]
    }
   ],
   "source": [
    "import cv2 as oc\n",
    "import numpy as np\n",
    "from keras.models import Sequential\n",
    "from keras.layers import Conv2D\n",
    "from keras.layers import MaxPooling2D\n",
    "from keras. layers.core import Flatten\n",
    "from keras.layers.core import Dense\n",
    "from keras.layers.core import Dropout\n",
    "from keras.preprocessing.image import ImageDataGenerator\n",
    "from keras.preprocessing import image\n",
    "from joblib import dump, load"
   ]
  },
  {
   "cell_type": "markdown",
   "id": "18cc7832",
   "metadata": {},
   "source": [
    "# BUILD CLASSIFIER"
   ]
  },
  {
   "cell_type": "code",
   "execution_count": 2,
   "id": "5895e26a",
   "metadata": {},
   "outputs": [
    {
     "name": "stderr",
     "output_type": "stream",
     "text": [
      "2022-02-15 01:45:54.003144: I tensorflow/stream_executor/cuda/cuda_gpu_executor.cc:939] successful NUMA node read from SysFS had negative value (-1), but there must be at least one NUMA node, so returning NUMA node zero\n",
      "2022-02-15 01:45:54.004005: W tensorflow/stream_executor/platform/default/dso_loader.cc:64] Could not load dynamic library 'libcudart.so.11.0'; dlerror: libcudart.so.11.0: cannot open shared object file: No such file or directory\n",
      "2022-02-15 01:45:54.004221: W tensorflow/stream_executor/platform/default/dso_loader.cc:64] Could not load dynamic library 'libcublas.so.11'; dlerror: libcublas.so.11: cannot open shared object file: No such file or directory\n",
      "2022-02-15 01:45:54.004423: W tensorflow/stream_executor/platform/default/dso_loader.cc:64] Could not load dynamic library 'libcublasLt.so.11'; dlerror: libcublasLt.so.11: cannot open shared object file: No such file or directory\n",
      "2022-02-15 01:45:54.004553: W tensorflow/stream_executor/platform/default/dso_loader.cc:64] Could not load dynamic library 'libcufft.so.10'; dlerror: libcufft.so.10: cannot open shared object file: No such file or directory\n",
      "2022-02-15 01:45:54.004666: W tensorflow/stream_executor/platform/default/dso_loader.cc:64] Could not load dynamic library 'libcurand.so.10'; dlerror: libcurand.so.10: cannot open shared object file: No such file or directory\n",
      "2022-02-15 01:45:54.004887: W tensorflow/stream_executor/platform/default/dso_loader.cc:64] Could not load dynamic library 'libcusolver.so.11'; dlerror: libcusolver.so.11: cannot open shared object file: No such file or directory\n",
      "2022-02-15 01:45:54.005193: W tensorflow/stream_executor/platform/default/dso_loader.cc:64] Could not load dynamic library 'libcusparse.so.11'; dlerror: libcusparse.so.11: cannot open shared object file: No such file or directory\n",
      "2022-02-15 01:45:54.005609: W tensorflow/stream_executor/platform/default/dso_loader.cc:64] Could not load dynamic library 'libcudnn.so.8'; dlerror: libcudnn.so.8: cannot open shared object file: No such file or directory\n",
      "2022-02-15 01:45:54.005652: W tensorflow/core/common_runtime/gpu/gpu_device.cc:1850] Cannot dlopen some GPU libraries. Please make sure the missing libraries mentioned above are installed properly if you would like to use GPU. Follow the guide at https://www.tensorflow.org/install/gpu for how to download and setup the required libraries for your platform.\n",
      "Skipping registering GPU devices...\n",
      "2022-02-15 01:45:54.006434: I tensorflow/core/platform/cpu_feature_guard.cc:151] This TensorFlow binary is optimized with oneAPI Deep Neural Network Library (oneDNN) to use the following CPU instructions in performance-critical operations:  AVX2 FMA\n",
      "To enable them in other operations, rebuild TensorFlow with the appropriate compiler flags.\n"
     ]
    }
   ],
   "source": [
    "classifier = Sequential ()\n",
    "classifier.add (Conv2D(32, (3,3), input_shape = (64,64,3), activation = \"relu\"))\n",
    "classifier.add (MaxPooling2D(pool_size = (2,2)))\n",
    "classifier.add (Conv2D(32, (3,3), activation = \"relu\"))\n",
    "classifier.add (MaxPooling2D(pool_size = (2,2)))\n",
    "classifier.add (Flatten())\n",
    "classifier.add (Dense(units = 64, activation = \"relu\"))\n",
    "classifier.add (Dense(units = 2, activation = \"softmax\"))\n",
    "classifier.compile(optimizer = \"adam\",\n",
    "           loss = \"categorical_crossentropy\", metrics = [\"accuracy\"]) "
   ]
  },
  {
   "cell_type": "markdown",
   "id": "006f5fd8",
   "metadata": {},
   "source": [
    "# GENERATE IMAGE DATA"
   ]
  },
  {
   "cell_type": "code",
   "execution_count": 3,
   "id": "83ba9700",
   "metadata": {},
   "outputs": [],
   "source": [
    "images = ImageDataGenerator (\n",
    "\n",
    "rescale= 1./255, \n",
    "shear_range= 0.2,\n",
    "zoom_range= 0.3,\n",
    "horizontal_flip= True\n",
    "    \n",
    ")"
   ]
  },
  {
   "cell_type": "markdown",
   "id": "ccc61d14",
   "metadata": {},
   "source": [
    "# SPLITTING DATA INTO TRAIN AND TEST DATA"
   ]
  },
  {
   "cell_type": "code",
   "execution_count": 4,
   "id": "1ec3d7be",
   "metadata": {},
   "outputs": [
    {
     "name": "stdout",
     "output_type": "stream",
     "text": [
      "Found 1000 images belonging to 2 classes.\n",
      "Found 200 images belonging to 2 classes.\n"
     ]
    }
   ],
   "source": [
    "train_data = images.flow_from_directory(\n",
    "   \"toy_train/\",\n",
    "   target_size = (64,64),\n",
    "   batch_size = 16,\n",
    "   class_mode = \"categorical\")\n",
    "\n",
    "test_data = images.flow_from_directory(\n",
    "   \"toy_val/\",\n",
    "   target_size = (64,64),\n",
    "   batch_size = 16,\n",
    "   class_mode = \"categorical\")\n",
    "    \n"
   ]
  },
  {
   "cell_type": "markdown",
   "id": "3c9da6ef",
   "metadata": {},
   "source": [
    "# TRAINING"
   ]
  },
  {
   "cell_type": "code",
   "execution_count": 5,
   "id": "4da91757",
   "metadata": {},
   "outputs": [
    {
     "name": "stdout",
     "output_type": "stream",
     "text": [
      "Epoch 1/10\n",
      "63/63 [==============================] - ETA: 0s - loss: 0.5160 - accuracy: 0.7380WARNING:tensorflow:Your input ran out of data; interrupting training. Make sure that your dataset or generator can generate at least `steps_per_epoch * epochs` batches (in this case, 20 batches). You may need to use the repeat() function when building your dataset.\n",
      "63/63 [==============================] - 3s 46ms/step - loss: 0.5160 - accuracy: 0.7380 - val_loss: 0.3684 - val_accuracy: 0.8350\n",
      "Epoch 2/10\n",
      "63/63 [==============================] - 2s 35ms/step - loss: 0.3589 - accuracy: 0.8320\n",
      "Epoch 3/10\n",
      "63/63 [==============================] - 2s 36ms/step - loss: 0.3382 - accuracy: 0.8420\n",
      "Epoch 4/10\n",
      "63/63 [==============================] - 2s 37ms/step - loss: 0.2896 - accuracy: 0.8860\n",
      "Epoch 5/10\n",
      "63/63 [==============================] - 2s 37ms/step - loss: 0.1775 - accuracy: 0.9280\n",
      "Epoch 6/10\n",
      "63/63 [==============================] - 2s 36ms/step - loss: 0.1025 - accuracy: 0.9700\n",
      "Epoch 7/10\n",
      "63/63 [==============================] - 2s 37ms/step - loss: 0.0521 - accuracy: 0.9850\n",
      "Epoch 8/10\n",
      "63/63 [==============================] - 2s 37ms/step - loss: 0.0457 - accuracy: 0.9900\n",
      "Epoch 9/10\n",
      "63/63 [==============================] - 2s 36ms/step - loss: 0.0327 - accuracy: 0.9910\n",
      "Epoch 10/10\n",
      "63/63 [==============================] - 2s 36ms/step - loss: 0.0265 - accuracy: 0.9930\n"
     ]
    },
    {
     "data": {
      "text/plain": [
       "<keras.callbacks.History at 0x7ff878149e80>"
      ]
     },
     "execution_count": 5,
     "metadata": {},
     "output_type": "execute_result"
    }
   ],
   "source": [
    "classifier.fit(\n",
    "train_data,\n",
    "epochs = 10,\n",
    "steps_per_epoch = len(train_data),\n",
    "validation_data = test_data,\n",
    "validation_steps = 20)\n",
    "               \n",
    "                "
   ]
  },
  {
   "cell_type": "markdown",
   "id": "e10f3111",
   "metadata": {},
   "source": [
    "# SAVING TRAINED MODEL"
   ]
  },
  {
   "cell_type": "code",
   "execution_count": 6,
   "id": "45c15d8f",
   "metadata": {},
   "outputs": [],
   "source": [
    "classifier.save(\"model.h5\")"
   ]
  },
  {
   "cell_type": "markdown",
   "id": "4ecb9d50",
   "metadata": {},
   "source": [
    "# TAKE  PREDICTIONS FROM MODEL"
   ]
  },
  {
   "cell_type": "code",
   "execution_count": 7,
   "id": "ec768b00",
   "metadata": {},
   "outputs": [],
   "source": [
    "img = image.load_img(\"toy_val/circle/118.jpg\", target_size = (64,64))"
   ]
  },
  {
   "cell_type": "code",
   "execution_count": 8,
   "id": "c4e94abf",
   "metadata": {},
   "outputs": [],
   "source": [
    "img_new  = image.img_to_array(img)"
   ]
  },
  {
   "cell_type": "code",
   "execution_count": 9,
   "id": "0b0ef040",
   "metadata": {},
   "outputs": [],
   "source": [
    "img_new = np.expand_dims(img_new, axis = 0)"
   ]
  },
  {
   "cell_type": "code",
   "execution_count": 10,
   "id": "c4d743e2",
   "metadata": {},
   "outputs": [
    {
     "name": "stdout",
     "output_type": "stream",
     "text": [
      "{'circle': 0, 'rectangle': 1}\n",
      "[[1. 0.]]\n"
     ]
    }
   ],
   "source": [
    "print(train_data.class_indices)\n",
    "prediction = classifier.predict(img_new)\n",
    "print(prediction)"
   ]
  },
  {
   "cell_type": "code",
   "execution_count": null,
   "id": "e77520fd",
   "metadata": {},
   "outputs": [],
   "source": []
  }
 ],
 "metadata": {
  "kernelspec": {
   "display_name": "Python 3 (ipykernel)",
   "language": "python",
   "name": "python3"
  },
  "language_info": {
   "codemirror_mode": {
    "name": "ipython",
    "version": 3
   },
   "file_extension": ".py",
   "mimetype": "text/x-python",
   "name": "python",
   "nbconvert_exporter": "python",
   "pygments_lexer": "ipython3",
   "version": "3.8.10"
  }
 },
 "nbformat": 4,
 "nbformat_minor": 5
}
